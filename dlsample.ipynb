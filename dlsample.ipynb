{
  "nbformat": 4,
  "nbformat_minor": 0,
  "metadata": {
    "colab": {
      "name": "dlsample.ipynb",
      "provenance": [],
      "authorship_tag": "ABX9TyPS/l8tk79kdAHuAQnn7aJD",
      "include_colab_link": true
    },
    "kernelspec": {
      "name": "python3",
      "display_name": "Python 3"
    },
    "language_info": {
      "name": "python"
    }
  },
  "cells": [
    {
      "cell_type": "markdown",
      "metadata": {
        "id": "view-in-github",
        "colab_type": "text"
      },
      "source": [
        "<a href=\"https://colab.research.google.com/github/sindhujajakkula/Gauss_points/blob/main/dlsample.ipynb\" target=\"_parent\"><img src=\"https://colab.research.google.com/assets/colab-badge.svg\" alt=\"Open In Colab\"/></a>"
      ]
    },
    {
      "cell_type": "code",
      "execution_count": 1,
      "metadata": {
        "id": "2z1gIq_yze-a"
      },
      "outputs": [],
      "source": [
        "#importing libraries\n",
        "import torch.nn as nn\n",
        "from torch.utils.data import DataLoader\n",
        "from sklearn.model_selection import train_test_split\n",
        "import torch.nn.functional as F\n",
        "import torch\n",
        "import numpy as np\n",
        "import pandas as pd"
      ]
    },
    {
      "cell_type": "code",
      "source": [
        "dataset = pd.read_csv(\"/content/Sample_data.csv\") #importing csv file into dataframe"
      ],
      "metadata": {
        "id": "ML1c3ULez5qG"
      },
      "execution_count": 2,
      "outputs": []
    },
    {
      "cell_type": "code",
      "source": [
        "dataset #displaying dataframe"
      ],
      "metadata": {
        "colab": {
          "base_uri": "https://localhost:8080/",
          "height": 423
        },
        "id": "nw653R71z_KT",
        "outputId": "524ecc7b-7100-41f1-dbfc-1a34ed1411c6"
      },
      "execution_count": 3,
      "outputs": [
        {
          "output_type": "execute_result",
          "data": {
            "text/plain": [
              "                  E     nu       B_x       C_x       C_y       D_x       D_y  \\\n",
              "0      8.000000e+10  0.325  1.286834  0.491369  1.588519 -0.452813  1.472879   \n",
              "1      2.000000e+11  0.250  0.893351  0.721683  0.924287 -0.244848  1.044743   \n",
              "2      8.000000e+10  0.275  1.782956  1.409239  1.228062 -0.527555  1.502008   \n",
              "3      1.600000e+11  0.200  0.939067  1.006932  0.967393 -0.041010  0.984627   \n",
              "4      8.000000e+10  0.275  1.035314  0.581292  0.991668 -0.313221  0.644734   \n",
              "...             ...    ...       ...       ...       ...       ...       ...   \n",
              "99995  1.800000e+11  0.325  1.350164  1.576151  1.495129 -0.228413  1.223775   \n",
              "99996  1.200000e+11  0.250  0.992425  0.798062  1.295789 -0.065018  0.897140   \n",
              "99997  1.800000e+11  0.300  0.964931  1.085251  0.929633  0.079629  0.988081   \n",
              "99998  1.000000e+11  0.250  1.030711  1.254512  1.043643  0.061652  0.684041   \n",
              "99999  1.600000e+11  0.200  1.419078  1.506871  1.471415 -0.354681  1.385551   \n",
              "\n",
              "       Gauss Points  \n",
              "0                 3  \n",
              "1                 3  \n",
              "2                 3  \n",
              "3                 3  \n",
              "4                 3  \n",
              "...             ...  \n",
              "99995             3  \n",
              "99996             3  \n",
              "99997             3  \n",
              "99998             3  \n",
              "99999             3  \n",
              "\n",
              "[100000 rows x 8 columns]"
            ],
            "text/html": [
              "\n",
              "  <div id=\"df-eceb3c85-3fc0-4c2d-bdd8-d3976ba8bc48\">\n",
              "    <div class=\"colab-df-container\">\n",
              "      <div>\n",
              "<style scoped>\n",
              "    .dataframe tbody tr th:only-of-type {\n",
              "        vertical-align: middle;\n",
              "    }\n",
              "\n",
              "    .dataframe tbody tr th {\n",
              "        vertical-align: top;\n",
              "    }\n",
              "\n",
              "    .dataframe thead th {\n",
              "        text-align: right;\n",
              "    }\n",
              "</style>\n",
              "<table border=\"1\" class=\"dataframe\">\n",
              "  <thead>\n",
              "    <tr style=\"text-align: right;\">\n",
              "      <th></th>\n",
              "      <th>E</th>\n",
              "      <th>nu</th>\n",
              "      <th>B_x</th>\n",
              "      <th>C_x</th>\n",
              "      <th>C_y</th>\n",
              "      <th>D_x</th>\n",
              "      <th>D_y</th>\n",
              "      <th>Gauss Points</th>\n",
              "    </tr>\n",
              "  </thead>\n",
              "  <tbody>\n",
              "    <tr>\n",
              "      <th>0</th>\n",
              "      <td>8.000000e+10</td>\n",
              "      <td>0.325</td>\n",
              "      <td>1.286834</td>\n",
              "      <td>0.491369</td>\n",
              "      <td>1.588519</td>\n",
              "      <td>-0.452813</td>\n",
              "      <td>1.472879</td>\n",
              "      <td>3</td>\n",
              "    </tr>\n",
              "    <tr>\n",
              "      <th>1</th>\n",
              "      <td>2.000000e+11</td>\n",
              "      <td>0.250</td>\n",
              "      <td>0.893351</td>\n",
              "      <td>0.721683</td>\n",
              "      <td>0.924287</td>\n",
              "      <td>-0.244848</td>\n",
              "      <td>1.044743</td>\n",
              "      <td>3</td>\n",
              "    </tr>\n",
              "    <tr>\n",
              "      <th>2</th>\n",
              "      <td>8.000000e+10</td>\n",
              "      <td>0.275</td>\n",
              "      <td>1.782956</td>\n",
              "      <td>1.409239</td>\n",
              "      <td>1.228062</td>\n",
              "      <td>-0.527555</td>\n",
              "      <td>1.502008</td>\n",
              "      <td>3</td>\n",
              "    </tr>\n",
              "    <tr>\n",
              "      <th>3</th>\n",
              "      <td>1.600000e+11</td>\n",
              "      <td>0.200</td>\n",
              "      <td>0.939067</td>\n",
              "      <td>1.006932</td>\n",
              "      <td>0.967393</td>\n",
              "      <td>-0.041010</td>\n",
              "      <td>0.984627</td>\n",
              "      <td>3</td>\n",
              "    </tr>\n",
              "    <tr>\n",
              "      <th>4</th>\n",
              "      <td>8.000000e+10</td>\n",
              "      <td>0.275</td>\n",
              "      <td>1.035314</td>\n",
              "      <td>0.581292</td>\n",
              "      <td>0.991668</td>\n",
              "      <td>-0.313221</td>\n",
              "      <td>0.644734</td>\n",
              "      <td>3</td>\n",
              "    </tr>\n",
              "    <tr>\n",
              "      <th>...</th>\n",
              "      <td>...</td>\n",
              "      <td>...</td>\n",
              "      <td>...</td>\n",
              "      <td>...</td>\n",
              "      <td>...</td>\n",
              "      <td>...</td>\n",
              "      <td>...</td>\n",
              "      <td>...</td>\n",
              "    </tr>\n",
              "    <tr>\n",
              "      <th>99995</th>\n",
              "      <td>1.800000e+11</td>\n",
              "      <td>0.325</td>\n",
              "      <td>1.350164</td>\n",
              "      <td>1.576151</td>\n",
              "      <td>1.495129</td>\n",
              "      <td>-0.228413</td>\n",
              "      <td>1.223775</td>\n",
              "      <td>3</td>\n",
              "    </tr>\n",
              "    <tr>\n",
              "      <th>99996</th>\n",
              "      <td>1.200000e+11</td>\n",
              "      <td>0.250</td>\n",
              "      <td>0.992425</td>\n",
              "      <td>0.798062</td>\n",
              "      <td>1.295789</td>\n",
              "      <td>-0.065018</td>\n",
              "      <td>0.897140</td>\n",
              "      <td>3</td>\n",
              "    </tr>\n",
              "    <tr>\n",
              "      <th>99997</th>\n",
              "      <td>1.800000e+11</td>\n",
              "      <td>0.300</td>\n",
              "      <td>0.964931</td>\n",
              "      <td>1.085251</td>\n",
              "      <td>0.929633</td>\n",
              "      <td>0.079629</td>\n",
              "      <td>0.988081</td>\n",
              "      <td>3</td>\n",
              "    </tr>\n",
              "    <tr>\n",
              "      <th>99998</th>\n",
              "      <td>1.000000e+11</td>\n",
              "      <td>0.250</td>\n",
              "      <td>1.030711</td>\n",
              "      <td>1.254512</td>\n",
              "      <td>1.043643</td>\n",
              "      <td>0.061652</td>\n",
              "      <td>0.684041</td>\n",
              "      <td>3</td>\n",
              "    </tr>\n",
              "    <tr>\n",
              "      <th>99999</th>\n",
              "      <td>1.600000e+11</td>\n",
              "      <td>0.200</td>\n",
              "      <td>1.419078</td>\n",
              "      <td>1.506871</td>\n",
              "      <td>1.471415</td>\n",
              "      <td>-0.354681</td>\n",
              "      <td>1.385551</td>\n",
              "      <td>3</td>\n",
              "    </tr>\n",
              "  </tbody>\n",
              "</table>\n",
              "<p>100000 rows × 8 columns</p>\n",
              "</div>\n",
              "      <button class=\"colab-df-convert\" onclick=\"convertToInteractive('df-eceb3c85-3fc0-4c2d-bdd8-d3976ba8bc48')\"\n",
              "              title=\"Convert this dataframe to an interactive table.\"\n",
              "              style=\"display:none;\">\n",
              "        \n",
              "  <svg xmlns=\"http://www.w3.org/2000/svg\" height=\"24px\"viewBox=\"0 0 24 24\"\n",
              "       width=\"24px\">\n",
              "    <path d=\"M0 0h24v24H0V0z\" fill=\"none\"/>\n",
              "    <path d=\"M18.56 5.44l.94 2.06.94-2.06 2.06-.94-2.06-.94-.94-2.06-.94 2.06-2.06.94zm-11 1L8.5 8.5l.94-2.06 2.06-.94-2.06-.94L8.5 2.5l-.94 2.06-2.06.94zm10 10l.94 2.06.94-2.06 2.06-.94-2.06-.94-.94-2.06-.94 2.06-2.06.94z\"/><path d=\"M17.41 7.96l-1.37-1.37c-.4-.4-.92-.59-1.43-.59-.52 0-1.04.2-1.43.59L10.3 9.45l-7.72 7.72c-.78.78-.78 2.05 0 2.83L4 21.41c.39.39.9.59 1.41.59.51 0 1.02-.2 1.41-.59l7.78-7.78 2.81-2.81c.8-.78.8-2.07 0-2.86zM5.41 20L4 18.59l7.72-7.72 1.47 1.35L5.41 20z\"/>\n",
              "  </svg>\n",
              "      </button>\n",
              "      \n",
              "  <style>\n",
              "    .colab-df-container {\n",
              "      display:flex;\n",
              "      flex-wrap:wrap;\n",
              "      gap: 12px;\n",
              "    }\n",
              "\n",
              "    .colab-df-convert {\n",
              "      background-color: #E8F0FE;\n",
              "      border: none;\n",
              "      border-radius: 50%;\n",
              "      cursor: pointer;\n",
              "      display: none;\n",
              "      fill: #1967D2;\n",
              "      height: 32px;\n",
              "      padding: 0 0 0 0;\n",
              "      width: 32px;\n",
              "    }\n",
              "\n",
              "    .colab-df-convert:hover {\n",
              "      background-color: #E2EBFA;\n",
              "      box-shadow: 0px 1px 2px rgba(60, 64, 67, 0.3), 0px 1px 3px 1px rgba(60, 64, 67, 0.15);\n",
              "      fill: #174EA6;\n",
              "    }\n",
              "\n",
              "    [theme=dark] .colab-df-convert {\n",
              "      background-color: #3B4455;\n",
              "      fill: #D2E3FC;\n",
              "    }\n",
              "\n",
              "    [theme=dark] .colab-df-convert:hover {\n",
              "      background-color: #434B5C;\n",
              "      box-shadow: 0px 1px 3px 1px rgba(0, 0, 0, 0.15);\n",
              "      filter: drop-shadow(0px 1px 2px rgba(0, 0, 0, 0.3));\n",
              "      fill: #FFFFFF;\n",
              "    }\n",
              "  </style>\n",
              "\n",
              "      <script>\n",
              "        const buttonEl =\n",
              "          document.querySelector('#df-eceb3c85-3fc0-4c2d-bdd8-d3976ba8bc48 button.colab-df-convert');\n",
              "        buttonEl.style.display =\n",
              "          google.colab.kernel.accessAllowed ? 'block' : 'none';\n",
              "\n",
              "        async function convertToInteractive(key) {\n",
              "          const element = document.querySelector('#df-eceb3c85-3fc0-4c2d-bdd8-d3976ba8bc48');\n",
              "          const dataTable =\n",
              "            await google.colab.kernel.invokeFunction('convertToInteractive',\n",
              "                                                     [key], {});\n",
              "          if (!dataTable) return;\n",
              "\n",
              "          const docLinkHtml = 'Like what you see? Visit the ' +\n",
              "            '<a target=\"_blank\" href=https://colab.research.google.com/notebooks/data_table.ipynb>data table notebook</a>'\n",
              "            + ' to learn more about interactive tables.';\n",
              "          element.innerHTML = '';\n",
              "          dataTable['output_type'] = 'display_data';\n",
              "          await google.colab.output.renderOutput(dataTable, element);\n",
              "          const docLink = document.createElement('div');\n",
              "          docLink.innerHTML = docLinkHtml;\n",
              "          element.appendChild(docLink);\n",
              "        }\n",
              "      </script>\n",
              "    </div>\n",
              "  </div>\n",
              "  "
            ]
          },
          "metadata": {},
          "execution_count": 3
        }
      ]
    },
    {
      "cell_type": "code",
      "source": [
        "#shuffling dataframe\n",
        "from sklearn.utils import shuffle\n",
        "\n",
        "dataset1 = shuffle(dataset)\n",
        "print(dataset1.head())"
      ],
      "metadata": {
        "colab": {
          "base_uri": "https://localhost:8080/"
        },
        "id": "AQBSVT0e4xm-",
        "outputId": "0d80b7e0-572b-444e-bbb8-209fe3d033ab"
      },
      "execution_count": 4,
      "outputs": [
        {
          "output_type": "stream",
          "name": "stdout",
          "text": [
            "                  E     nu       B_x       C_x       C_y       D_x       D_y  \\\n",
            "11776  1.800000e+11  0.250  1.114373  1.096801  1.616714 -0.469145  1.729705   \n",
            "22415  1.200000e+11  0.250  0.790735  0.941065  1.096623 -0.388763  0.745635   \n",
            "6023   1.000000e+11  0.225  1.434278  1.724800  0.881097 -0.187953  1.359087   \n",
            "25730  1.600000e+11  0.300  0.693181  1.212381  1.568582 -0.157035  1.595653   \n",
            "51799  1.200000e+11  0.275  1.146302  0.520907  1.216765 -0.254164  0.484781   \n",
            "\n",
            "       Gauss Points  \n",
            "11776             3  \n",
            "22415             4  \n",
            "6023              3  \n",
            "25730             4  \n",
            "51799             4  \n"
          ]
        }
      ]
    },
    {
      "cell_type": "code",
      "source": [
        "dataset1.columns #columns in the dataframe"
      ],
      "metadata": {
        "colab": {
          "base_uri": "https://localhost:8080/"
        },
        "id": "oReZsYUy0CSt",
        "outputId": "886248ba-368f-4616-98e4-fce0d394b757"
      },
      "execution_count": 5,
      "outputs": [
        {
          "output_type": "execute_result",
          "data": {
            "text/plain": [
              "Index(['E', 'nu', 'B_x', 'C_x', 'C_y', 'D_x', 'D_y', 'Gauss Points'], dtype='object')"
            ]
          },
          "metadata": {},
          "execution_count": 5
        }
      ]
    },
    {
      "cell_type": "code",
      "source": [
        "X = dataset1.drop('Gauss Points',axis=1).values #creating input array\n",
        "y = dataset1['Gauss Points'].values #creating output array"
      ],
      "metadata": {
        "id": "_hXVoRM50CWS"
      },
      "execution_count": 6,
      "outputs": []
    },
    {
      "cell_type": "code",
      "source": [
        "dataset1"
      ],
      "metadata": {
        "colab": {
          "base_uri": "https://localhost:8080/",
          "height": 423
        },
        "id": "tYTwLzMrx4sH",
        "outputId": "53fb37e9-865f-4bbd-fb76-cb22caa146ff"
      },
      "execution_count": 7,
      "outputs": [
        {
          "output_type": "execute_result",
          "data": {
            "text/plain": [
              "                  E     nu       B_x       C_x       C_y       D_x       D_y  \\\n",
              "11776  1.800000e+11  0.250  1.114373  1.096801  1.616714 -0.469145  1.729705   \n",
              "22415  1.200000e+11  0.250  0.790735  0.941065  1.096623 -0.388763  0.745635   \n",
              "6023   1.000000e+11  0.225  1.434278  1.724800  0.881097 -0.187953  1.359087   \n",
              "25730  1.600000e+11  0.300  0.693181  1.212381  1.568582 -0.157035  1.595653   \n",
              "51799  1.200000e+11  0.275  1.146302  0.520907  1.216765 -0.254164  0.484781   \n",
              "...             ...    ...       ...       ...       ...       ...       ...   \n",
              "94954  2.000000e+11  0.275  0.592266  0.807746  1.477117 -0.463341  1.135511   \n",
              "42827  1.400000e+11  0.325  0.994143  0.836773  0.888880 -0.021417  1.085397   \n",
              "81837  2.000000e+11  0.325  1.372257  1.445290  1.257390 -0.048637  1.436578   \n",
              "80455  1.200000e+11  0.200  0.684170  1.300908  1.425638  0.313624  1.594191   \n",
              "12185  1.400000e+11  0.275  0.646166  0.891660  1.480078  0.359649  1.373990   \n",
              "\n",
              "       Gauss Points  \n",
              "11776             3  \n",
              "22415             4  \n",
              "6023              3  \n",
              "25730             4  \n",
              "51799             4  \n",
              "...             ...  \n",
              "94954             4  \n",
              "42827             3  \n",
              "81837             3  \n",
              "80455             3  \n",
              "12185             3  \n",
              "\n",
              "[100000 rows x 8 columns]"
            ],
            "text/html": [
              "\n",
              "  <div id=\"df-306eca53-c8fe-40b0-a81d-a1b27c2b4e66\">\n",
              "    <div class=\"colab-df-container\">\n",
              "      <div>\n",
              "<style scoped>\n",
              "    .dataframe tbody tr th:only-of-type {\n",
              "        vertical-align: middle;\n",
              "    }\n",
              "\n",
              "    .dataframe tbody tr th {\n",
              "        vertical-align: top;\n",
              "    }\n",
              "\n",
              "    .dataframe thead th {\n",
              "        text-align: right;\n",
              "    }\n",
              "</style>\n",
              "<table border=\"1\" class=\"dataframe\">\n",
              "  <thead>\n",
              "    <tr style=\"text-align: right;\">\n",
              "      <th></th>\n",
              "      <th>E</th>\n",
              "      <th>nu</th>\n",
              "      <th>B_x</th>\n",
              "      <th>C_x</th>\n",
              "      <th>C_y</th>\n",
              "      <th>D_x</th>\n",
              "      <th>D_y</th>\n",
              "      <th>Gauss Points</th>\n",
              "    </tr>\n",
              "  </thead>\n",
              "  <tbody>\n",
              "    <tr>\n",
              "      <th>11776</th>\n",
              "      <td>1.800000e+11</td>\n",
              "      <td>0.250</td>\n",
              "      <td>1.114373</td>\n",
              "      <td>1.096801</td>\n",
              "      <td>1.616714</td>\n",
              "      <td>-0.469145</td>\n",
              "      <td>1.729705</td>\n",
              "      <td>3</td>\n",
              "    </tr>\n",
              "    <tr>\n",
              "      <th>22415</th>\n",
              "      <td>1.200000e+11</td>\n",
              "      <td>0.250</td>\n",
              "      <td>0.790735</td>\n",
              "      <td>0.941065</td>\n",
              "      <td>1.096623</td>\n",
              "      <td>-0.388763</td>\n",
              "      <td>0.745635</td>\n",
              "      <td>4</td>\n",
              "    </tr>\n",
              "    <tr>\n",
              "      <th>6023</th>\n",
              "      <td>1.000000e+11</td>\n",
              "      <td>0.225</td>\n",
              "      <td>1.434278</td>\n",
              "      <td>1.724800</td>\n",
              "      <td>0.881097</td>\n",
              "      <td>-0.187953</td>\n",
              "      <td>1.359087</td>\n",
              "      <td>3</td>\n",
              "    </tr>\n",
              "    <tr>\n",
              "      <th>25730</th>\n",
              "      <td>1.600000e+11</td>\n",
              "      <td>0.300</td>\n",
              "      <td>0.693181</td>\n",
              "      <td>1.212381</td>\n",
              "      <td>1.568582</td>\n",
              "      <td>-0.157035</td>\n",
              "      <td>1.595653</td>\n",
              "      <td>4</td>\n",
              "    </tr>\n",
              "    <tr>\n",
              "      <th>51799</th>\n",
              "      <td>1.200000e+11</td>\n",
              "      <td>0.275</td>\n",
              "      <td>1.146302</td>\n",
              "      <td>0.520907</td>\n",
              "      <td>1.216765</td>\n",
              "      <td>-0.254164</td>\n",
              "      <td>0.484781</td>\n",
              "      <td>4</td>\n",
              "    </tr>\n",
              "    <tr>\n",
              "      <th>...</th>\n",
              "      <td>...</td>\n",
              "      <td>...</td>\n",
              "      <td>...</td>\n",
              "      <td>...</td>\n",
              "      <td>...</td>\n",
              "      <td>...</td>\n",
              "      <td>...</td>\n",
              "      <td>...</td>\n",
              "    </tr>\n",
              "    <tr>\n",
              "      <th>94954</th>\n",
              "      <td>2.000000e+11</td>\n",
              "      <td>0.275</td>\n",
              "      <td>0.592266</td>\n",
              "      <td>0.807746</td>\n",
              "      <td>1.477117</td>\n",
              "      <td>-0.463341</td>\n",
              "      <td>1.135511</td>\n",
              "      <td>4</td>\n",
              "    </tr>\n",
              "    <tr>\n",
              "      <th>42827</th>\n",
              "      <td>1.400000e+11</td>\n",
              "      <td>0.325</td>\n",
              "      <td>0.994143</td>\n",
              "      <td>0.836773</td>\n",
              "      <td>0.888880</td>\n",
              "      <td>-0.021417</td>\n",
              "      <td>1.085397</td>\n",
              "      <td>3</td>\n",
              "    </tr>\n",
              "    <tr>\n",
              "      <th>81837</th>\n",
              "      <td>2.000000e+11</td>\n",
              "      <td>0.325</td>\n",
              "      <td>1.372257</td>\n",
              "      <td>1.445290</td>\n",
              "      <td>1.257390</td>\n",
              "      <td>-0.048637</td>\n",
              "      <td>1.436578</td>\n",
              "      <td>3</td>\n",
              "    </tr>\n",
              "    <tr>\n",
              "      <th>80455</th>\n",
              "      <td>1.200000e+11</td>\n",
              "      <td>0.200</td>\n",
              "      <td>0.684170</td>\n",
              "      <td>1.300908</td>\n",
              "      <td>1.425638</td>\n",
              "      <td>0.313624</td>\n",
              "      <td>1.594191</td>\n",
              "      <td>3</td>\n",
              "    </tr>\n",
              "    <tr>\n",
              "      <th>12185</th>\n",
              "      <td>1.400000e+11</td>\n",
              "      <td>0.275</td>\n",
              "      <td>0.646166</td>\n",
              "      <td>0.891660</td>\n",
              "      <td>1.480078</td>\n",
              "      <td>0.359649</td>\n",
              "      <td>1.373990</td>\n",
              "      <td>3</td>\n",
              "    </tr>\n",
              "  </tbody>\n",
              "</table>\n",
              "<p>100000 rows × 8 columns</p>\n",
              "</div>\n",
              "      <button class=\"colab-df-convert\" onclick=\"convertToInteractive('df-306eca53-c8fe-40b0-a81d-a1b27c2b4e66')\"\n",
              "              title=\"Convert this dataframe to an interactive table.\"\n",
              "              style=\"display:none;\">\n",
              "        \n",
              "  <svg xmlns=\"http://www.w3.org/2000/svg\" height=\"24px\"viewBox=\"0 0 24 24\"\n",
              "       width=\"24px\">\n",
              "    <path d=\"M0 0h24v24H0V0z\" fill=\"none\"/>\n",
              "    <path d=\"M18.56 5.44l.94 2.06.94-2.06 2.06-.94-2.06-.94-.94-2.06-.94 2.06-2.06.94zm-11 1L8.5 8.5l.94-2.06 2.06-.94-2.06-.94L8.5 2.5l-.94 2.06-2.06.94zm10 10l.94 2.06.94-2.06 2.06-.94-2.06-.94-.94-2.06-.94 2.06-2.06.94z\"/><path d=\"M17.41 7.96l-1.37-1.37c-.4-.4-.92-.59-1.43-.59-.52 0-1.04.2-1.43.59L10.3 9.45l-7.72 7.72c-.78.78-.78 2.05 0 2.83L4 21.41c.39.39.9.59 1.41.59.51 0 1.02-.2 1.41-.59l7.78-7.78 2.81-2.81c.8-.78.8-2.07 0-2.86zM5.41 20L4 18.59l7.72-7.72 1.47 1.35L5.41 20z\"/>\n",
              "  </svg>\n",
              "      </button>\n",
              "      \n",
              "  <style>\n",
              "    .colab-df-container {\n",
              "      display:flex;\n",
              "      flex-wrap:wrap;\n",
              "      gap: 12px;\n",
              "    }\n",
              "\n",
              "    .colab-df-convert {\n",
              "      background-color: #E8F0FE;\n",
              "      border: none;\n",
              "      border-radius: 50%;\n",
              "      cursor: pointer;\n",
              "      display: none;\n",
              "      fill: #1967D2;\n",
              "      height: 32px;\n",
              "      padding: 0 0 0 0;\n",
              "      width: 32px;\n",
              "    }\n",
              "\n",
              "    .colab-df-convert:hover {\n",
              "      background-color: #E2EBFA;\n",
              "      box-shadow: 0px 1px 2px rgba(60, 64, 67, 0.3), 0px 1px 3px 1px rgba(60, 64, 67, 0.15);\n",
              "      fill: #174EA6;\n",
              "    }\n",
              "\n",
              "    [theme=dark] .colab-df-convert {\n",
              "      background-color: #3B4455;\n",
              "      fill: #D2E3FC;\n",
              "    }\n",
              "\n",
              "    [theme=dark] .colab-df-convert:hover {\n",
              "      background-color: #434B5C;\n",
              "      box-shadow: 0px 1px 3px 1px rgba(0, 0, 0, 0.15);\n",
              "      filter: drop-shadow(0px 1px 2px rgba(0, 0, 0, 0.3));\n",
              "      fill: #FFFFFF;\n",
              "    }\n",
              "  </style>\n",
              "\n",
              "      <script>\n",
              "        const buttonEl =\n",
              "          document.querySelector('#df-306eca53-c8fe-40b0-a81d-a1b27c2b4e66 button.colab-df-convert');\n",
              "        buttonEl.style.display =\n",
              "          google.colab.kernel.accessAllowed ? 'block' : 'none';\n",
              "\n",
              "        async function convertToInteractive(key) {\n",
              "          const element = document.querySelector('#df-306eca53-c8fe-40b0-a81d-a1b27c2b4e66');\n",
              "          const dataTable =\n",
              "            await google.colab.kernel.invokeFunction('convertToInteractive',\n",
              "                                                     [key], {});\n",
              "          if (!dataTable) return;\n",
              "\n",
              "          const docLinkHtml = 'Like what you see? Visit the ' +\n",
              "            '<a target=\"_blank\" href=https://colab.research.google.com/notebooks/data_table.ipynb>data table notebook</a>'\n",
              "            + ' to learn more about interactive tables.';\n",
              "          element.innerHTML = '';\n",
              "          dataTable['output_type'] = 'display_data';\n",
              "          await google.colab.output.renderOutput(dataTable, element);\n",
              "          const docLink = document.createElement('div');\n",
              "          docLink.innerHTML = docLinkHtml;\n",
              "          element.appendChild(docLink);\n",
              "        }\n",
              "      </script>\n",
              "    </div>\n",
              "  </div>\n",
              "  "
            ]
          },
          "metadata": {},
          "execution_count": 7
        }
      ]
    },
    {
      "cell_type": "code",
      "source": [
        "X"
      ],
      "metadata": {
        "colab": {
          "base_uri": "https://localhost:8080/"
        },
        "id": "N9NyhrE2xxOd",
        "outputId": "144b3b0d-ce84-4d48-d12c-81a3ffd7bb65"
      },
      "execution_count": 8,
      "outputs": [
        {
          "output_type": "execute_result",
          "data": {
            "text/plain": [
              "array([[ 1.80000000e+11,  2.50000000e-01,  1.11437264e+00, ...,\n",
              "         1.61671357e+00, -4.69145084e-01,  1.72970532e+00],\n",
              "       [ 1.20000000e+11,  2.50000000e-01,  7.90735084e-01, ...,\n",
              "         1.09662335e+00, -3.88763210e-01,  7.45634820e-01],\n",
              "       [ 1.00000000e+11,  2.25000000e-01,  1.43427768e+00, ...,\n",
              "         8.81097252e-01, -1.87953350e-01,  1.35908719e+00],\n",
              "       ...,\n",
              "       [ 2.00000000e+11,  3.25000000e-01,  1.37225670e+00, ...,\n",
              "         1.25739038e+00, -4.86370170e-02,  1.43657809e+00],\n",
              "       [ 1.20000000e+11,  2.00000000e-01,  6.84170257e-01, ...,\n",
              "         1.42563753e+00,  3.13623933e-01,  1.59419075e+00],\n",
              "       [ 1.40000000e+11,  2.75000000e-01,  6.46165923e-01, ...,\n",
              "         1.48007816e+00,  3.59649136e-01,  1.37399007e+00]])"
            ]
          },
          "metadata": {},
          "execution_count": 8
        }
      ]
    },
    {
      "cell_type": "code",
      "source": [
        "y"
      ],
      "metadata": {
        "colab": {
          "base_uri": "https://localhost:8080/"
        },
        "id": "vXrZsBzFx_m6",
        "outputId": "c010e76c-619b-4be9-bb92-a05b0d38fc22"
      },
      "execution_count": 9,
      "outputs": [
        {
          "output_type": "execute_result",
          "data": {
            "text/plain": [
              "array([3, 4, 3, ..., 3, 3, 3])"
            ]
          },
          "metadata": {},
          "execution_count": 9
        }
      ]
    },
    {
      "cell_type": "code",
      "source": [
        "X = torch.FloatTensor(X) #array to tensor "
      ],
      "metadata": {
        "id": "v158JqHG43Mz"
      },
      "execution_count": 10,
      "outputs": []
    },
    {
      "cell_type": "code",
      "source": [
        "type(X)"
      ],
      "metadata": {
        "id": "_AOecZk9dYIP",
        "colab": {
          "base_uri": "https://localhost:8080/"
        },
        "outputId": "33d0c57e-0fee-498f-fece-4bf1208da253"
      },
      "execution_count": 11,
      "outputs": [
        {
          "output_type": "execute_result",
          "data": {
            "text/plain": [
              "torch.Tensor"
            ]
          },
          "metadata": {},
          "execution_count": 11
        }
      ]
    },
    {
      "cell_type": "code",
      "source": [
        "X.dtype #tensor element datatype"
      ],
      "metadata": {
        "colab": {
          "base_uri": "https://localhost:8080/"
        },
        "id": "6FweVb9IBSOg",
        "outputId": "065cc981-6d16-485c-ab72-76805ad50a1f"
      },
      "execution_count": 12,
      "outputs": [
        {
          "output_type": "execute_result",
          "data": {
            "text/plain": [
              "torch.float32"
            ]
          },
          "metadata": {},
          "execution_count": 12
        }
      ]
    },
    {
      "cell_type": "code",
      "source": [
        "y = torch.LongTensor(y) #array to tensor"
      ],
      "metadata": {
        "id": "QZW5nHIw3mgH"
      },
      "execution_count": 13,
      "outputs": []
    },
    {
      "cell_type": "code",
      "source": [
        "type(y)"
      ],
      "metadata": {
        "id": "tdOnidMNdU7m",
        "colab": {
          "base_uri": "https://localhost:8080/"
        },
        "outputId": "b19e8c96-d83f-47d8-e35c-eb0fbc3705ad"
      },
      "execution_count": 14,
      "outputs": [
        {
          "output_type": "execute_result",
          "data": {
            "text/plain": [
              "torch.Tensor"
            ]
          },
          "metadata": {},
          "execution_count": 14
        }
      ]
    },
    {
      "cell_type": "code",
      "source": [
        "y.dtype"
      ],
      "metadata": {
        "colab": {
          "base_uri": "https://localhost:8080/"
        },
        "id": "v9cgavaTBWkC",
        "outputId": "1292c456-971f-49bc-e395-08d55fdcd688"
      },
      "execution_count": 15,
      "outputs": [
        {
          "output_type": "execute_result",
          "data": {
            "text/plain": [
              "torch.int64"
            ]
          },
          "metadata": {},
          "execution_count": 15
        }
      ]
    },
    {
      "cell_type": "code",
      "source": [
        "unique_targets = torch.unique(y) #finding the unique values of gauss points column"
      ],
      "metadata": {
        "id": "JpWh-yqO3fRX"
      },
      "execution_count": 16,
      "outputs": []
    },
    {
      "cell_type": "code",
      "source": [
        "unique_targets"
      ],
      "metadata": {
        "colab": {
          "base_uri": "https://localhost:8080/"
        },
        "id": "hwP8R3ee3yDU",
        "outputId": "9a707d91-b1fb-493b-dc7e-9e2e5e502d8c"
      },
      "execution_count": 17,
      "outputs": [
        {
          "output_type": "execute_result",
          "data": {
            "text/plain": [
              "tensor([2, 3, 4, 5])"
            ]
          },
          "metadata": {},
          "execution_count": 17
        }
      ]
    },
    {
      "cell_type": "markdown",
      "source": [
        "Mapping the unique values in target to numbers starting from 0"
      ],
      "metadata": {
        "id": "CcqJvVlccwNN"
      }
    },
    {
      "cell_type": "code",
      "source": [
        "y_new = torch.empty_like(y) #creating new tensor with same dimensions as output ttetnsor\n",
        "for idx, t in enumerate(unique_targets):\n",
        "    print('replacing {} with {}'.format(t, idx))\n",
        "    y_new[y == t] = idx"
      ],
      "metadata": {
        "colab": {
          "base_uri": "https://localhost:8080/"
        },
        "id": "wn8E_I_n3FVc",
        "outputId": "7dabf93b-394b-4465-c72a-af205c7097f4"
      },
      "execution_count": 18,
      "outputs": [
        {
          "output_type": "stream",
          "name": "stdout",
          "text": [
            "replacing 2 with 0\n",
            "replacing 3 with 1\n",
            "replacing 4 with 2\n",
            "replacing 5 with 3\n"
          ]
        }
      ]
    },
    {
      "cell_type": "code",
      "source": [
        "y_new #new mapped target column"
      ],
      "metadata": {
        "colab": {
          "base_uri": "https://localhost:8080/"
        },
        "id": "AQp0_kp24Uyd",
        "outputId": "f9720840-0ca4-46ff-a822-3247ea106cf3"
      },
      "execution_count": 19,
      "outputs": [
        {
          "output_type": "execute_result",
          "data": {
            "text/plain": [
              "tensor([1, 2, 1,  ..., 1, 1, 1])"
            ]
          },
          "metadata": {},
          "execution_count": 19
        }
      ]
    },
    {
      "cell_type": "code",
      "source": [
        "y"
      ],
      "metadata": {
        "colab": {
          "base_uri": "https://localhost:8080/"
        },
        "id": "_d68o7qZ4qup",
        "outputId": "b5c55fe1-1758-41f2-fd18-83cace6a7014"
      },
      "execution_count": 20,
      "outputs": [
        {
          "output_type": "execute_result",
          "data": {
            "text/plain": [
              "tensor([3, 4, 3,  ..., 3, 3, 3])"
            ]
          },
          "metadata": {},
          "execution_count": 20
        }
      ]
    },
    {
      "cell_type": "code",
      "source": [
        "torch.unique(y_new)"
      ],
      "metadata": {
        "colab": {
          "base_uri": "https://localhost:8080/"
        },
        "id": "5H-xLgVm4aA4",
        "outputId": "a8ccafd1-f14f-41a2-d99b-79d3c6f7dbc3"
      },
      "execution_count": 21,
      "outputs": [
        {
          "output_type": "execute_result",
          "data": {
            "text/plain": [
              "tensor([0, 1, 2, 3])"
            ]
          },
          "metadata": {},
          "execution_count": 21
        }
      ]
    },
    {
      "cell_type": "code",
      "source": [
        "torch.unique(y)"
      ],
      "metadata": {
        "id": "gNeldMX_dpoY",
        "colab": {
          "base_uri": "https://localhost:8080/"
        },
        "outputId": "310ba97f-d8e9-4f7c-dff8-4d22c632a535"
      },
      "execution_count": 22,
      "outputs": [
        {
          "output_type": "execute_result",
          "data": {
            "text/plain": [
              "tensor([2, 3, 4, 5])"
            ]
          },
          "metadata": {},
          "execution_count": 22
        }
      ]
    },
    {
      "cell_type": "code",
      "source": [
        "X_train, X_test, y_train, y_test = train_test_split(X,y_new,test_size=0.20) #splitting data into training and test data"
      ],
      "metadata": {
        "id": "L7QIJBUl0Ink"
      },
      "execution_count": 23,
      "outputs": []
    },
    {
      "cell_type": "code",
      "source": [
        "len(X_train)"
      ],
      "metadata": {
        "colab": {
          "base_uri": "https://localhost:8080/"
        },
        "id": "dKyWOVrQyE8R",
        "outputId": "f5a573c9-3077-491a-fe4b-c64734e153ad"
      },
      "execution_count": 24,
      "outputs": [
        {
          "output_type": "execute_result",
          "data": {
            "text/plain": [
              "80000"
            ]
          },
          "metadata": {},
          "execution_count": 24
        }
      ]
    },
    {
      "cell_type": "code",
      "source": [
        "len(y_train)"
      ],
      "metadata": {
        "colab": {
          "base_uri": "https://localhost:8080/"
        },
        "id": "gR6UMWz4yMuR",
        "outputId": "1807119a-d897-47db-abc2-64fee85abc9b"
      },
      "execution_count": 25,
      "outputs": [
        {
          "output_type": "execute_result",
          "data": {
            "text/plain": [
              "80000"
            ]
          },
          "metadata": {},
          "execution_count": 25
        }
      ]
    },
    {
      "cell_type": "code",
      "source": [
        "len(X_test)"
      ],
      "metadata": {
        "colab": {
          "base_uri": "https://localhost:8080/"
        },
        "id": "s2WX8WsQyPRP",
        "outputId": "50bf1596-52dc-49a3-b018-b76a0f2e5414"
      },
      "execution_count": 26,
      "outputs": [
        {
          "output_type": "execute_result",
          "data": {
            "text/plain": [
              "20000"
            ]
          },
          "metadata": {},
          "execution_count": 26
        }
      ]
    },
    {
      "cell_type": "code",
      "source": [
        "len(y_test)"
      ],
      "metadata": {
        "colab": {
          "base_uri": "https://localhost:8080/"
        },
        "id": "pgxY7BBIySnT",
        "outputId": "7e231b88-38e3-4cff-968a-febccd21f91d"
      },
      "execution_count": 27,
      "outputs": [
        {
          "output_type": "execute_result",
          "data": {
            "text/plain": [
              "20000"
            ]
          },
          "metadata": {},
          "execution_count": 27
        }
      ]
    },
    {
      "cell_type": "code",
      "source": [
        "X_train"
      ],
      "metadata": {
        "colab": {
          "base_uri": "https://localhost:8080/"
        },
        "id": "7sVPfEbtyYBG",
        "outputId": "ff9c4b3c-6b6b-4899-c986-e89eed9808a3"
      },
      "execution_count": 28,
      "outputs": [
        {
          "output_type": "execute_result",
          "data": {
            "text/plain": [
              "tensor([[ 1.6000e+11,  3.0000e-01,  1.1575e+00,  ...,  1.0728e+00,\n",
              "         -2.7846e-01,  1.2222e+00],\n",
              "        [ 1.2000e+11,  2.0000e-01,  1.0592e+00,  ...,  9.9846e-01,\n",
              "          4.6108e-02,  1.2873e+00],\n",
              "        [ 1.4000e+11,  3.0000e-01,  9.7874e-01,  ...,  8.8130e-01,\n",
              "         -6.4245e-02,  9.9925e-01],\n",
              "        ...,\n",
              "        [ 1.8000e+11,  2.7500e-01,  1.1337e+00,  ...,  1.3665e+00,\n",
              "          3.8360e-01,  1.4910e+00],\n",
              "        [ 1.2000e+11,  3.0000e-01,  7.4433e-01,  ...,  7.5705e-01,\n",
              "          2.9786e-01,  9.1756e-01],\n",
              "        [ 2.0000e+11,  2.2500e-01,  8.3040e-01,  ...,  1.0102e+00,\n",
              "         -1.9692e-01,  1.0477e+00]])"
            ]
          },
          "metadata": {},
          "execution_count": 28
        }
      ]
    },
    {
      "cell_type": "code",
      "source": [
        "y_train"
      ],
      "metadata": {
        "colab": {
          "base_uri": "https://localhost:8080/"
        },
        "id": "E-I4l8BKyh2V",
        "outputId": "1e3c1d0a-ba4c-4ee0-c5f8-fb7dcbe67525"
      },
      "execution_count": 29,
      "outputs": [
        {
          "output_type": "execute_result",
          "data": {
            "text/plain": [
              "tensor([1, 1, 1,  ..., 1, 1, 1])"
            ]
          },
          "metadata": {},
          "execution_count": 29
        }
      ]
    },
    {
      "cell_type": "code",
      "source": [
        "X_test"
      ],
      "metadata": {
        "colab": {
          "base_uri": "https://localhost:8080/"
        },
        "id": "jvyxcHDjyavA",
        "outputId": "3fcd0d73-5c0b-4e7c-f00e-0129b5ab835b"
      },
      "execution_count": 30,
      "outputs": [
        {
          "output_type": "execute_result",
          "data": {
            "text/plain": [
              "tensor([[ 1.8000e+11,  2.2500e-01,  1.4152e+00,  ...,  1.6101e+00,\n",
              "          7.2635e-02,  1.8447e+00],\n",
              "        [ 1.8000e+11,  2.0000e-01,  1.6845e+00,  ...,  6.2512e-01,\n",
              "          8.0614e-02,  1.1944e+00],\n",
              "        [ 2.0000e+11,  2.2500e-01,  5.3362e-01,  ...,  8.9447e-01,\n",
              "         -2.1376e-01,  7.4116e-01],\n",
              "        ...,\n",
              "        [ 1.2000e+11,  2.0000e-01,  1.0793e+00,  ...,  1.4087e+00,\n",
              "         -3.1076e-01,  8.4109e-01],\n",
              "        [ 1.6000e+11,  3.0000e-01,  8.4360e-01,  ...,  1.0440e+00,\n",
              "         -2.0730e-01,  1.2683e+00],\n",
              "        [ 2.0000e+11,  2.0000e-01,  7.1572e-01,  ...,  1.3217e+00,\n",
              "          7.1700e-02,  1.3295e+00]])"
            ]
          },
          "metadata": {},
          "execution_count": 30
        }
      ]
    },
    {
      "cell_type": "code",
      "source": [
        "y_test"
      ],
      "metadata": {
        "colab": {
          "base_uri": "https://localhost:8080/"
        },
        "id": "-LXqAvz6yoXG",
        "outputId": "d8d1ed98-de56-45e0-95ea-df006090d04d"
      },
      "execution_count": 31,
      "outputs": [
        {
          "output_type": "execute_result",
          "data": {
            "text/plain": [
              "tensor([1, 2, 1,  ..., 1, 1, 1])"
            ]
          },
          "metadata": {},
          "execution_count": 31
        }
      ]
    },
    {
      "cell_type": "markdown",
      "source": [
        "Creating Model\n",
        "\n",
        "* Fully Connected Layer 7 input features, 20 output features (arbitrary)\n",
        "* Fully Connected Layer 20 input features, 30 output features (arbitrary)\n",
        "* Output Layer 30 input features , 4 output features\n",
        "\n",
        "ReLU (rectified linear unit) as activation function."
      ],
      "metadata": {
        "id": "Wlsq7KwacCw2"
      }
    },
    {
      "cell_type": "code",
      "source": [
        "#creating model class with 2 hidden layers\n",
        "class Model(nn.Module):\n",
        "    def __init__(self, input_features=7, hidden_layer1=20, hidden_layer2=30, output_features=4):\n",
        "        super().__init__()\n",
        "        self.fc1 = nn.Linear(input_features,hidden_layer1)                  \n",
        "        self.fc2 = nn.Linear(hidden_layer1, hidden_layer2)                  \n",
        "        self.out = nn.Linear(hidden_layer2, output_features)      \n",
        "        \n",
        "    def forward(self, x):\n",
        "        x = F.relu(self.fc1(x))\n",
        "        x = F.relu(self.fc2(x))\n",
        "        x = self.out(x)\n",
        "        return x"
      ],
      "metadata": {
        "id": "viFduO3C0Lst"
      },
      "execution_count": 43,
      "outputs": []
    },
    {
      "cell_type": "code",
      "source": [
        "model = Model()\n",
        "model"
      ],
      "metadata": {
        "colab": {
          "base_uri": "https://localhost:8080/"
        },
        "id": "SAaNzBgW0Pjh",
        "outputId": "2013a800-93a6-475f-f475-668feb008e5c"
      },
      "execution_count": 44,
      "outputs": [
        {
          "output_type": "execute_result",
          "data": {
            "text/plain": [
              "Model(\n",
              "  (fc1): Linear(in_features=7, out_features=20, bias=True)\n",
              "  (fc2): Linear(in_features=20, out_features=30, bias=True)\n",
              "  (out): Linear(in_features=30, out_features=4, bias=True)\n",
              ")"
            ]
          },
          "metadata": {},
          "execution_count": 44
        }
      ]
    },
    {
      "cell_type": "markdown",
      "source": [
        "Setting hyperparameters:\n",
        "learning rate = 0.01\n",
        "\n",
        "We will use Cross Entropy and Adam optimizer."
      ],
      "metadata": {
        "id": "VAIBKDZFccJV"
      }
    },
    {
      "cell_type": "code",
      "source": [
        "criterion = nn.CrossEntropyLoss() \n",
        "optimizer = torch.optim.Adam(model.parameters(), lr=0.01)"
      ],
      "metadata": {
        "id": "qbiA1IVP0SMY"
      },
      "execution_count": 45,
      "outputs": []
    },
    {
      "cell_type": "markdown",
      "source": [
        "Training"
      ],
      "metadata": {
        "id": "FgLh5utKSS9Y"
      }
    },
    {
      "cell_type": "code",
      "source": [
        "epochs = 200\n",
        "losses = []\n",
        "\n",
        "for i in range(epochs):\n",
        "    y_pred = model.forward(X_train)\n",
        "    loss = criterion(y_pred, y_train)\n",
        "    losses.append(loss.item())\n",
        "    print(f'epoch: {i:2}  loss: {loss.item():10.8f}')\n",
        "    \n",
        "    optimizer.zero_grad()\n",
        "    loss.backward()\n",
        "    optimizer.step()"
      ],
      "metadata": {
        "colab": {
          "base_uri": "https://localhost:8080/"
        },
        "id": "MxmPqa_ASRfC",
        "outputId": "9638bb06-dbde-4526-ba86-1948e901d393"
      },
      "execution_count": 46,
      "outputs": [
        {
          "output_type": "stream",
          "name": "stdout",
          "text": [
            "epoch:  0  loss: 2864301568.00000000\n",
            "epoch:  1  loss: 3209477120.00000000\n",
            "epoch:  2  loss: 1102231040.00000000\n",
            "epoch:  3  loss: 879730944.00000000\n",
            "epoch:  4  loss: 500101760.00000000\n",
            "epoch:  5  loss: 1038526208.00000000\n",
            "epoch:  6  loss: 219409424.00000000\n",
            "epoch:  7  loss: 638298304.00000000\n",
            "epoch:  8  loss: 909528192.00000000\n",
            "epoch:  9  loss: 1043400448.00000000\n",
            "epoch: 10  loss: 1063638144.00000000\n",
            "epoch: 11  loss: 1003881728.00000000\n",
            "epoch: 12  loss: 1499765376.00000000\n",
            "epoch: 13  loss: 957758528.00000000\n",
            "epoch: 14  loss: 934505536.00000000\n",
            "epoch: 15  loss: 926981632.00000000\n",
            "epoch: 16  loss: 872287232.00000000\n",
            "epoch: 17  loss: 777214528.00000000\n",
            "epoch: 18  loss: 649630976.00000000\n",
            "epoch: 19  loss: 496403104.00000000\n",
            "epoch: 20  loss: 323289760.00000000\n",
            "epoch: 21  loss: 368661376.00000000\n",
            "epoch: 22  loss: 493189504.00000000\n",
            "epoch: 23  loss: 198728192.00000000\n",
            "epoch: 24  loss: 248624864.00000000\n",
            "epoch: 25  loss: 263984352.00000000\n",
            "epoch: 26  loss: 249934800.00000000\n",
            "epoch: 27  loss: 210957520.00000000\n",
            "epoch: 28  loss: 288811264.00000000\n",
            "epoch: 29  loss: 183102048.00000000\n",
            "epoch: 30  loss: 187596384.00000000\n",
            "epoch: 31  loss: 168350240.00000000\n",
            "epoch: 32  loss: 259814880.00000000\n",
            "epoch: 33  loss: 167830560.00000000\n",
            "epoch: 34  loss: 181107616.00000000\n",
            "epoch: 35  loss: 171911936.00000000\n",
            "epoch: 36  loss: 143312880.00000000\n",
            "epoch: 37  loss: 225883264.00000000\n",
            "epoch: 38  loss: 121884496.00000000\n",
            "epoch: 39  loss: 125184544.00000000\n",
            "epoch: 40  loss: 111989776.00000000\n",
            "epoch: 41  loss: 156383648.00000000\n",
            "epoch: 42  loss: 180237152.00000000\n",
            "epoch: 43  loss: 183857104.00000000\n",
            "epoch: 44  loss: 169611520.00000000\n",
            "epoch: 45  loss: 139763248.00000000\n",
            "epoch: 46  loss: 96439648.00000000\n",
            "epoch: 47  loss: 197639536.00000000\n",
            "epoch: 48  loss: 155394384.00000000\n",
            "epoch: 49  loss: 105634712.00000000\n",
            "epoch: 50  loss: 141955616.00000000\n",
            "epoch: 51  loss: 158835744.00000000\n",
            "epoch: 52  loss: 158410112.00000000\n",
            "epoch: 53  loss: 142743296.00000000\n",
            "epoch: 54  loss: 113814536.00000000\n",
            "epoch: 55  loss: 73483504.00000000\n",
            "epoch: 56  loss: 89148040.00000000\n",
            "epoch: 57  loss: 60196636.00000000\n",
            "epoch: 58  loss: 76552480.00000000\n",
            "epoch: 59  loss: 107356128.00000000\n",
            "epoch: 60  loss: 121243936.00000000\n",
            "epoch: 61  loss: 120020336.00000000\n",
            "epoch: 62  loss: 105443816.00000000\n",
            "epoch: 63  loss: 79210776.00000000\n",
            "epoch: 64  loss: 102773224.00000000\n",
            "epoch: 65  loss: 58259920.00000000\n",
            "epoch: 66  loss: 54370676.00000000\n",
            "epoch: 67  loss: 58418772.00000000\n",
            "epoch: 68  loss: 49853860.00000000\n",
            "epoch: 69  loss: 54928652.00000000\n",
            "epoch: 70  loss: 49576200.00000000\n",
            "epoch: 71  loss: 164005328.00000000\n",
            "epoch: 72  loss: 87735744.00000000\n",
            "epoch: 73  loss: 135164448.00000000\n",
            "epoch: 74  loss: 149515392.00000000\n",
            "epoch: 75  loss: 137502320.00000000\n",
            "epoch: 76  loss: 104109440.00000000\n",
            "epoch: 77  loss: 56351576.00000000\n",
            "epoch: 78  loss: 107645064.00000000\n",
            "epoch: 79  loss: 99434768.00000000\n",
            "epoch: 80  loss: 78793488.00000000\n",
            "epoch: 81  loss: 130028560.00000000\n",
            "epoch: 82  loss: 158409264.00000000\n",
            "epoch: 83  loss: 168407664.00000000\n",
            "epoch: 84  loss: 163289872.00000000\n",
            "epoch: 85  loss: 144185344.00000000\n",
            "epoch: 86  loss: 114957640.00000000\n",
            "epoch: 87  loss: 79243840.00000000\n",
            "epoch: 88  loss: 133301400.00000000\n",
            "epoch: 89  loss: 150553808.00000000\n",
            "epoch: 90  loss: 61747580.00000000\n",
            "epoch: 91  loss: 108888656.00000000\n",
            "epoch: 92  loss: 145831344.00000000\n",
            "epoch: 93  loss: 169612384.00000000\n",
            "epoch: 94  loss: 181598944.00000000\n",
            "epoch: 95  loss: 183155184.00000000\n",
            "epoch: 96  loss: 175639968.00000000\n",
            "epoch: 97  loss: 160385104.00000000\n",
            "epoch: 98  loss: 138664768.00000000\n",
            "epoch: 99  loss: 111662560.00000000\n",
            "epoch: 100  loss: 80441720.00000000\n",
            "epoch: 101  loss: 45920524.00000000\n",
            "epoch: 102  loss: 137774400.00000000\n",
            "epoch: 103  loss: 164737616.00000000\n",
            "epoch: 104  loss: 115614080.00000000\n",
            "epoch: 105  loss: 41626444.00000000\n",
            "epoch: 106  loss: 62737128.00000000\n",
            "epoch: 107  loss: 75173096.00000000\n",
            "epoch: 108  loss: 80056792.00000000\n",
            "epoch: 109  loss: 78411216.00000000\n",
            "epoch: 110  loss: 71175360.00000000\n",
            "epoch: 111  loss: 59206928.00000000\n",
            "epoch: 112  loss: 43277980.00000000\n",
            "epoch: 113  loss: 24067864.00000000\n",
            "epoch: 114  loss: 73164560.00000000\n",
            "epoch: 115  loss: 78564080.00000000\n",
            "epoch: 116  loss: 29491350.00000000\n",
            "epoch: 117  loss: 34591852.00000000\n",
            "epoch: 118  loss: 50630584.00000000\n",
            "epoch: 119  loss: 59197392.00000000\n",
            "epoch: 120  loss: 60986928.00000000\n",
            "epoch: 121  loss: 67527288.00000000\n",
            "epoch: 122  loss: 81809176.00000000\n",
            "epoch: 123  loss: 95982312.00000000\n",
            "epoch: 124  loss: 98243232.00000000\n",
            "epoch: 125  loss: 95691928.00000000\n",
            "epoch: 126  loss: 89010288.00000000\n",
            "epoch: 127  loss: 78772696.00000000\n",
            "epoch: 128  loss: 65525560.00000000\n",
            "epoch: 129  loss: 49772660.00000000\n",
            "epoch: 130  loss: 31962510.00000000\n",
            "epoch: 131  loss: 12478112.00000000\n",
            "epoch: 132  loss: 79779944.00000000\n",
            "epoch: 133  loss: 100623656.00000000\n",
            "epoch: 134  loss: 81304824.00000000\n",
            "epoch: 135  loss: 27535134.00000000\n",
            "epoch: 136  loss: 28755592.00000000\n",
            "epoch: 137  loss: 44849396.00000000\n",
            "epoch: 138  loss: 55181104.00000000\n",
            "epoch: 139  loss: 60221124.00000000\n",
            "epoch: 140  loss: 60308744.00000000\n",
            "epoch: 141  loss: 55644220.00000000\n",
            "epoch: 142  loss: 46269612.00000000\n",
            "epoch: 143  loss: 100019696.00000000\n",
            "epoch: 144  loss: 52976516.00000000\n",
            "epoch: 145  loss: 68899136.00000000\n",
            "epoch: 146  loss: 68145496.00000000\n",
            "epoch: 147  loss: 61935340.00000000\n",
            "epoch: 148  loss: 56693268.00000000\n",
            "epoch: 149  loss: 49143340.00000000\n",
            "epoch: 150  loss: 37690500.00000000\n",
            "epoch: 151  loss: 22808120.00000000\n",
            "epoch: 152  loss: 19923370.00000000\n",
            "epoch: 153  loss: 20858400.00000000\n",
            "epoch: 154  loss: 17792320.00000000\n",
            "epoch: 155  loss: 25529712.00000000\n",
            "epoch: 156  loss: 31530876.00000000\n",
            "epoch: 157  loss: 39388468.00000000\n",
            "epoch: 158  loss: 44982080.00000000\n",
            "epoch: 159  loss: 45487140.00000000\n",
            "epoch: 160  loss: 41411728.00000000\n",
            "epoch: 161  loss: 33305428.00000000\n",
            "epoch: 162  loss: 21730776.00000000\n",
            "epoch: 163  loss: 23717978.00000000\n",
            "epoch: 164  loss: 20377298.00000000\n",
            "epoch: 165  loss: 23063344.00000000\n",
            "epoch: 166  loss: 32255362.00000000\n",
            "epoch: 167  loss: 36266044.00000000\n",
            "epoch: 168  loss: 35583884.00000000\n",
            "epoch: 169  loss: 30738688.00000000\n",
            "epoch: 170  loss: 22308328.00000000\n",
            "epoch: 171  loss: 16958162.00000000\n",
            "epoch: 172  loss: 14401495.00000000\n",
            "epoch: 173  loss: 20006820.00000000\n",
            "epoch: 174  loss: 26161080.00000000\n",
            "epoch: 175  loss: 27764378.00000000\n",
            "epoch: 176  loss: 25322232.00000000\n",
            "epoch: 177  loss: 19350192.00000000\n",
            "epoch: 178  loss: 25917328.00000000\n",
            "epoch: 179  loss: 14429454.00000000\n",
            "epoch: 180  loss: 14453796.00000000\n",
            "epoch: 181  loss: 23732174.00000000\n",
            "epoch: 182  loss: 19438260.00000000\n",
            "epoch: 183  loss: 23503822.00000000\n",
            "epoch: 184  loss: 23328512.00000000\n",
            "epoch: 185  loss: 19920936.00000000\n",
            "epoch: 186  loss: 13704120.00000000\n",
            "epoch: 187  loss: 34062988.00000000\n",
            "epoch: 188  loss: 23495064.00000000\n",
            "epoch: 189  loss: 19635844.00000000\n",
            "epoch: 190  loss: 27497726.00000000\n",
            "epoch: 191  loss: 31422670.00000000\n",
            "epoch: 192  loss: 31798356.00000000\n",
            "epoch: 193  loss: 29039224.00000000\n",
            "epoch: 194  loss: 23572968.00000000\n",
            "epoch: 195  loss: 15823045.00000000\n",
            "epoch: 196  loss: 17285590.00000000\n",
            "epoch: 197  loss: 17189280.00000000\n",
            "epoch: 198  loss: 10320819.00000000\n",
            "epoch: 199  loss: 13558886.00000000\n"
          ]
        }
      ]
    },
    {
      "cell_type": "code",
      "source": [
        "import matplotlib.pyplot as plt\n",
        "plt.plot(range(epochs), losses)\n",
        "plt.ylabel('Loss')\n",
        "plt.xlabel('epoch')"
      ],
      "metadata": {
        "colab": {
          "base_uri": "https://localhost:8080/",
          "height": 307
        },
        "id": "JseK2xFkU4GF",
        "outputId": "891e5a16-5e48-460a-b28e-a858a6e0bb4f"
      },
      "execution_count": 47,
      "outputs": [
        {
          "output_type": "execute_result",
          "data": {
            "text/plain": [
              "Text(0.5, 0, 'epoch')"
            ]
          },
          "metadata": {},
          "execution_count": 47
        },
        {
          "output_type": "display_data",
          "data": {
            "text/plain": [
              "<Figure size 432x288 with 1 Axes>"
            ],
            "image/png": "[encoded data removed]"
          },
          "metadata": {
            "needs_background": "light"
          }
        }
      ]
    },
    {
      "cell_type": "markdown",
      "source": [
        "Validating and testing the model"
      ],
      "metadata": {
        "id": "4kmBGPutbo4s"
      }
    },
    {
      "cell_type": "code",
      "source": [
        "preds = []\n",
        "with torch.no_grad():\n",
        "    for val in X_test:\n",
        "        y_hat = model.forward(val)\n",
        "        preds.append(y_hat.argmax().item())"
      ],
      "metadata": {
        "id": "PBn8I-rUVysM"
      },
      "execution_count": 48,
      "outputs": []
    },
    {
      "cell_type": "code",
      "source": [
        "df = pd.DataFrame({'Y': y_test, 'YHat': preds})\n",
        "df['Correct'] = [1 if corr == pred else 0 for corr, pred in zip(df['Y'], df['YHat'])]\n",
        "df"
      ],
      "metadata": {
        "colab": {
          "base_uri": "https://localhost:8080/",
          "height": 423
        },
        "id": "L1Wh8TKZV1wy",
        "outputId": "c82d04f7-3567-43bb-cb28-eabea066797e"
      },
      "execution_count": 49,
      "outputs": [
        {
          "output_type": "execute_result",
          "data": {
            "text/plain": [
              "       Y  YHat  Correct\n",
              "0      1     1        1\n",
              "1      2     1        0\n",
              "2      1     1        1\n",
              "3      0     1        0\n",
              "4      1     1        1\n",
              "...   ..   ...      ...\n",
              "19995  2     1        0\n",
              "19996  1     1        1\n",
              "19997  1     1        1\n",
              "19998  1     1        1\n",
              "19999  1     1        1\n",
              "\n",
              "[20000 rows x 3 columns]"
            ],
            "text/html": [
              "\n",
              "  <div id=\"df-97308785-cd3a-4887-90f0-5f5af72c7f71\">\n",
              "    <div class=\"colab-df-container\">\n",
              "      <div>\n",
              "<style scoped>\n",
              "    .dataframe tbody tr th:only-of-type {\n",
              "        vertical-align: middle;\n",
              "    }\n",
              "\n",
              "    .dataframe tbody tr th {\n",
              "        vertical-align: top;\n",
              "    }\n",
              "\n",
              "    .dataframe thead th {\n",
              "        text-align: right;\n",
              "    }\n",
              "</style>\n",
              "<table border=\"1\" class=\"dataframe\">\n",
              "  <thead>\n",
              "    <tr style=\"text-align: right;\">\n",
              "      <th></th>\n",
              "      <th>Y</th>\n",
              "      <th>YHat</th>\n",
              "      <th>Correct</th>\n",
              "    </tr>\n",
              "  </thead>\n",
              "  <tbody>\n",
              "    <tr>\n",
              "      <th>0</th>\n",
              "      <td>1</td>\n",
              "      <td>1</td>\n",
              "      <td>1</td>\n",
              "    </tr>\n",
              "    <tr>\n",
              "      <th>1</th>\n",
              "      <td>2</td>\n",
              "      <td>1</td>\n",
              "      <td>0</td>\n",
              "    </tr>\n",
              "    <tr>\n",
              "      <th>2</th>\n",
              "      <td>1</td>\n",
              "      <td>1</td>\n",
              "      <td>1</td>\n",
              "    </tr>\n",
              "    <tr>\n",
              "      <th>3</th>\n",
              "      <td>0</td>\n",
              "      <td>1</td>\n",
              "      <td>0</td>\n",
              "    </tr>\n",
              "    <tr>\n",
              "      <th>4</th>\n",
              "      <td>1</td>\n",
              "      <td>1</td>\n",
              "      <td>1</td>\n",
              "    </tr>\n",
              "    <tr>\n",
              "      <th>...</th>\n",
              "      <td>...</td>\n",
              "      <td>...</td>\n",
              "      <td>...</td>\n",
              "    </tr>\n",
              "    <tr>\n",
              "      <th>19995</th>\n",
              "      <td>2</td>\n",
              "      <td>1</td>\n",
              "      <td>0</td>\n",
              "    </tr>\n",
              "    <tr>\n",
              "      <th>19996</th>\n",
              "      <td>1</td>\n",
              "      <td>1</td>\n",
              "      <td>1</td>\n",
              "    </tr>\n",
              "    <tr>\n",
              "      <th>19997</th>\n",
              "      <td>1</td>\n",
              "      <td>1</td>\n",
              "      <td>1</td>\n",
              "    </tr>\n",
              "    <tr>\n",
              "      <th>19998</th>\n",
              "      <td>1</td>\n",
              "      <td>1</td>\n",
              "      <td>1</td>\n",
              "    </tr>\n",
              "    <tr>\n",
              "      <th>19999</th>\n",
              "      <td>1</td>\n",
              "      <td>1</td>\n",
              "      <td>1</td>\n",
              "    </tr>\n",
              "  </tbody>\n",
              "</table>\n",
              "<p>20000 rows × 3 columns</p>\n",
              "</div>\n",
              "      <button class=\"colab-df-convert\" onclick=\"convertToInteractive('df-97308785-cd3a-4887-90f0-5f5af72c7f71')\"\n",
              "              title=\"Convert this dataframe to an interactive table.\"\n",
              "              style=\"display:none;\">\n",
              "        \n",
              "  <svg xmlns=\"http://www.w3.org/2000/svg\" height=\"24px\"viewBox=\"0 0 24 24\"\n",
              "       width=\"24px\">\n",
              "    <path d=\"M0 0h24v24H0V0z\" fill=\"none\"/>\n",
              "    <path d=\"M18.56 5.44l.94 2.06.94-2.06 2.06-.94-2.06-.94-.94-2.06-.94 2.06-2.06.94zm-11 1L8.5 8.5l.94-2.06 2.06-.94-2.06-.94L8.5 2.5l-.94 2.06-2.06.94zm10 10l.94 2.06.94-2.06 2.06-.94-2.06-.94-.94-2.06-.94 2.06-2.06.94z\"/><path d=\"M17.41 7.96l-1.37-1.37c-.4-.4-.92-.59-1.43-.59-.52 0-1.04.2-1.43.59L10.3 9.45l-7.72 7.72c-.78.78-.78 2.05 0 2.83L4 21.41c.39.39.9.59 1.41.59.51 0 1.02-.2 1.41-.59l7.78-7.78 2.81-2.81c.8-.78.8-2.07 0-2.86zM5.41 20L4 18.59l7.72-7.72 1.47 1.35L5.41 20z\"/>\n",
              "  </svg>\n",
              "      </button>\n",
              "      \n",
              "  <style>\n",
              "    .colab-df-container {\n",
              "      display:flex;\n",
              "      flex-wrap:wrap;\n",
              "      gap: 12px;\n",
              "    }\n",
              "\n",
              "    .colab-df-convert {\n",
              "      background-color: #E8F0FE;\n",
              "      border: none;\n",
              "      border-radius: 50%;\n",
              "      cursor: pointer;\n",
              "      display: none;\n",
              "      fill: #1967D2;\n",
              "      height: 32px;\n",
              "      padding: 0 0 0 0;\n",
              "      width: 32px;\n",
              "    }\n",
              "\n",
              "    .colab-df-convert:hover {\n",
              "      background-color: #E2EBFA;\n",
              "      box-shadow: 0px 1px 2px rgba(60, 64, 67, 0.3), 0px 1px 3px 1px rgba(60, 64, 67, 0.15);\n",
              "      fill: #174EA6;\n",
              "    }\n",
              "\n",
              "    [theme=dark] .colab-df-convert {\n",
              "      background-color: #3B4455;\n",
              "      fill: #D2E3FC;\n",
              "    }\n",
              "\n",
              "    [theme=dark] .colab-df-convert:hover {\n",
              "      background-color: #434B5C;\n",
              "      box-shadow: 0px 1px 3px 1px rgba(0, 0, 0, 0.15);\n",
              "      filter: drop-shadow(0px 1px 2px rgba(0, 0, 0, 0.3));\n",
              "      fill: #FFFFFF;\n",
              "    }\n",
              "  </style>\n",
              "\n",
              "      <script>\n",
              "        const buttonEl =\n",
              "          document.querySelector('#df-97308785-cd3a-4887-90f0-5f5af72c7f71 button.colab-df-convert');\n",
              "        buttonEl.style.display =\n",
              "          google.colab.kernel.accessAllowed ? 'block' : 'none';\n",
              "\n",
              "        async function convertToInteractive(key) {\n",
              "          const element = document.querySelector('#df-97308785-cd3a-4887-90f0-5f5af72c7f71');\n",
              "          const dataTable =\n",
              "            await google.colab.kernel.invokeFunction('convertToInteractive',\n",
              "                                                     [key], {});\n",
              "          if (!dataTable) return;\n",
              "\n",
              "          const docLinkHtml = 'Like what you see? Visit the ' +\n",
              "            '<a target=\"_blank\" href=https://colab.research.google.com/notebooks/data_table.ipynb>data table notebook</a>'\n",
              "            + ' to learn more about interactive tables.';\n",
              "          element.innerHTML = '';\n",
              "          dataTable['output_type'] = 'display_data';\n",
              "          await google.colab.output.renderOutput(dataTable, element);\n",
              "          const docLink = document.createElement('div');\n",
              "          docLink.innerHTML = docLinkHtml;\n",
              "          element.appendChild(docLink);\n",
              "        }\n",
              "      </script>\n",
              "    </div>\n",
              "  </div>\n",
              "  "
            ]
          },
          "metadata": {},
          "execution_count": 49
        }
      ]
    },
    {
      "cell_type": "markdown",
      "source": [
        "Accuracy"
      ],
      "metadata": {
        "id": "h7aoUYwmb7Lu"
      }
    },
    {
      "cell_type": "code",
      "source": [
        "df['Correct'].sum() / len(df)"
      ],
      "metadata": {
        "colab": {
          "base_uri": "https://localhost:8080/"
        },
        "id": "YC1D0-ZfV_77",
        "outputId": "b7429f22-8423-4bea-9c21-3af3506d687c"
      },
      "execution_count": 50,
      "outputs": [
        {
          "output_type": "execute_result",
          "data": {
            "text/plain": [
              "0.7677"
            ]
          },
          "metadata": {},
          "execution_count": 50
        }
      ]
    }
  ]
}